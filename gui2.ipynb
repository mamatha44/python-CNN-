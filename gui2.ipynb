# Importing necessary packages to be used

from tkinter import *
from tkinter import ttk
from PIL import Image as PIL_Image
from PIL import ImageTk
import tkinter.filedialog as tkFileDialog
import cv2
import os
from tkinter import messagebox
import matplotlib.pyplot as plt

import numpy as np
import cv2
from tkinter import Tk, Canvas
from PIL import Image as PIL_Image, ImageTk

# Initialize result_list with dummy data for debugging
result_list = []
for i in range(10):
    dummy_image = (np.random.rand(200, 200) * 255).astype(np.uint8)  # Create a random grayscale image
    result_list.append([dummy_image, np.random.rand(), np.random.rand(), True])

# Initialize Tkinter GUI
root = Tk()
root.title("Feature Display Debug")
canvas = Canvas(root, width=300, height=300)
canvas.pack()

# Check if result_list contains a valid image
if len(result_list) > 0 and result_list[0] is not None:
    print("result_list[0] contents:", result_list[0])

    # Get the first image
    image = result_list[0][0]  # Extract the NumPy array image

    try:
        # Resize the image to fit within 200x200 canvas
        resized_image = cv2.resize(image, (200, 200))

        # Convert grayscale to RGB for compatibility with PIL.Image
        if len(resized_image.shape) == 2:  # Grayscale image
            resized_image = cv2.cvtColor(resized_image, cv2.COLOR_GRAY2RGB)

        # Convert the NumPy image to a PIL.Image
        pil_image = PIL_Image.fromarray(resized_image)

        # Convert the PIL.Image to a Tkinter-compatible PhotoImage
        tk_image = ImageTk.PhotoImage(pil_image)

        # Explicitly persist the reference to the PhotoImage object
        canvas.tk_image_ref = tk_image  # Add as an attribute of the canvas

        # Display the image on the canvas
        canvas.create_image(0, 0, anchor='nw', image=canvas.tk_image_ref)
        print("Image successfully displayed!")
    except Exception as e:
        print(f"Error while processing the image: {e}")
else:
    print("Error: result_list[0] is None or not initialized!")

# Run the Tkinter event loop
root.mainloop()

# Retrieving the data stored by the previously running notebooks 
result_list = [...]  # Populate this with your result data
path = r"C:/Users/Public/projects/major_project/Fake-Currency-Detection-System-main/Fake-Currency-Detection-System-main/Project_files"

# Store these variables so you can retrieve them later
%store result_list
%store path
# Result list: contains complete result analysis of each feaature
%store -r result_list         

# Path of input image
%store -r path                

# Importing necessary libraries
import numpy as np

# Populating result_list with placeholder data (for debugging)
result_list = []
for i in range(10):
    result_list.append([np.random.rand(200, 200), np.random.rand(), np.random.rand(), True])

# The rest of the display_output function remains the same
print("Contents of result_list:", result_list)

%store -r result_list         

# Path of input image
%store -r path       
print("Path:", path)  # Check the retrieved path
print("Result List Length:", len(result_list))  # Check the length of result_list
# Optionally, inspect the first few items in result_list if it's not too large
if len(result_list) > 0:
    print("First item in result_list:", result_list[0])
def display_output():
    global result_list  # Use the global result_list to avoid overwriting
    
    # Loop over result_list to display the images and data
    for feature_num in range(10):
        if result_list[feature_num] is not None:
            image = result_list[feature_num][0]
            print(f"Feature {feature_num + 1} data: ", result_list[feature_num])
            # Process the image and other attributes here
            # If needed, resize the image, display SSIM scores, etc.
        else:
            print(f"Warning: result_list[{feature_num}] is None.")
import os
import cv2
from tkinter import *
from PIL import Image as PIL_Image, ImageTk
import numpy as np

result_list = []  # This should be populated with valid feature data before calling `display_output`.

def load_image(image_path):
    """Load and return the image as a numpy array."""
    if not os.path.exists(image_path):
        print(f"Error: Image file not found at {image_path}")
        return None
    image = cv2.imread(image_path)
    if image is None:
        print(f"Error: Failed to load image from {image_path}")
        return None
    image = cv2.cvtColor(image, cv2.COLOR_BGR2RGB)
    return image

def display_output():
    global result_list  # Use the global result_list to avoid overwriting
    pass_count = 0

    sub_frame1 = Frame(master_frame, bg='black', pady=5)
    sub_frame2 = Frame(master_frame, bg='brown', pady=5, padx=5)
    sub_frame3 = Frame(master_frame, pady=5, padx=5)
    sub_frame4 = Frame(master_frame, pady=5, padx=5)
    
    sub_frame1.grid(row=1, column=1, padx=5, pady=5, sticky="nsew")
    sub_frame2.grid(row=2, column=1, padx=5, pady=5, sticky="nsew")
    sub_frame3.grid(row=3, column=1, padx=5, pady=5, sticky="nsew")
    sub_frame4.grid(row=4, column=1, padx=5, pady=5, sticky="nsew")

    # Title Label
    title = Label(master=sub_frame1, text="FAKE CURRENCY DETECTION SYSTEM", fg='dark blue', font="Verdana 28 bold")
    title.pack()

    # Load and display input image in sub_frame2
    canvas_input = Canvas(master=sub_frame2, width=675, height=300)
    canvas_input.pack()
    
    image_path = r"C:\Users\Public\projects\major_project\Fake-Currency-Detection-System-main\Fake-Currency-Detection-System-main\Project_files.jpg"
    image = load_image(image_path)
    
    if image is not None:
        # Resize input image to a larger width dynamically
        height, width, _ = image.shape
        new_width = 1000  # Set to a larger width
        aspect_ratio = width / height
        new_height = int(new_width / aspect_ratio)
        
        image = cv2.resize(image, (new_width, new_height))
        image = PIL_Image.fromarray(image)
        image = ImageTk.PhotoImage(image)
        
        canvas_input.image = image
        canvas_input.create_image(0, 0, anchor=NW, image=image)
    else:
        print(f"Error: Failed to load input image.")
    
    # Process and display features
    for i in range(4):
        for j in range(3):
            feature_num = 3 * i + j
            if feature_num >= len(result_list):
                break
            feature_frame = Frame(master=sub_frame4, relief=RAISED, borderwidth=1, bg='light blue')
            feature_frame.grid(row=i, column=j, padx=20, pady=20, sticky="nsew")
            
            try:
                feature_data = result_list[feature_num]
                if feature_data is None:
                    raise ValueError(f"Feature {feature_num} is None.")
                
                image, avg_score, max_score, status = feature_data
                
                # Resize feature image dynamically
                canvas = Canvas(master=feature_frame, width=200, height=200)
                canvas.pack()

                h, w = image.shape[:2]
                aspect_ratio = w / h
                if h > w:
                    resize_height, resize_width = 200, int(200 * aspect_ratio)
                else:
                    resize_width, resize_height = 200, int(200 / aspect_ratio)

                image = cv2.resize(image, (resize_width, resize_height))
                image = PIL_Image.fromarray(image)
                image = ImageTk.PhotoImage(image)

                canvas.image = image
                canvas.create_image(0, 0, anchor=NW, image=image)

                # Display additional information
                Label(master=feature_frame, text=f"Feature {feature_num + 1}", font="Verdana 12 bold").pack()
                Label(master=feature_frame, text=f"Avg. SSIM: {avg_score:.3f}", font="Verdana 10").pack()
                Label(master=feature_frame, text=f"Max. SSIM: {max_score:.3f}", font="Verdana 10").pack()
                Label(master=feature_frame, text=f"Status: {'PASS' if status else 'FAIL'}", fg='green' if status else 'red').pack()
                
                if status:
                    pass_count += 1
            except Exception as e:
                print(f"Error displaying feature {feature_num}: {e}")
                continue
    
    # Result Label
    result_label = Label(master=sub_frame3, text=f"RESULT: {pass_count} / {len(result_list)} features PASSED!", fg='green', font="Verdana 24 bold")
    result_label.pack()

# Main Function to Initialize Tkinter and Start Displaying
root = Tk()
root.title('Fake Currency Detection - Result Analysis')

window_height = 600
window_width = 1100
screen_width = root.winfo_screenwidth()
screen_height = root.winfo_screenheight()
x_cordinate = int((screen_width / 2) - (window_width / 2))
y_cordinate = int((screen_height / 2) - (window_height / 2))

root.geometry(f"{window_width}x{window_height}+{x_cordinate}+{y_cordinate}")

main_frame = Frame(root, relief=GROOVE, bd=1)
main_frame.place(x=10, y=10)

canvas = Canvas(main_frame)
master_frame = Frame(canvas)
myscrollbar = Scrollbar(main_frame, orient="vertical", command=canvas.yview)
canvas.configure(yscrollcommand=myscrollbar.set)

myscrollbar.pack(side="right", fill="y")
canvas.pack(side="left")
canvas.create_window((0, 0), window=master_frame, anchor='nw')
master_frame.bind("<Configure>", lambda event: canvas.configure(scrollregion=canvas.bbox("all")))

# Populate result_list with dummy data for testing
result_list = [
    [(np.random.rand(200, 200) * 255).astype(np.uint8), 0.85, 0.95, True] for _ in range(10)
]

# Call the display_output function
display_output()

# Start the Tkinter event loop
root.mainloop()

